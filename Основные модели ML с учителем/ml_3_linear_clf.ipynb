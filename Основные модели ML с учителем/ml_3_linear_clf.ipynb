{
 "cells": [
  {
   "cell_type": "markdown",
   "id": "00817292",
   "metadata": {},
   "source": [
    "# Линейные модели для классификации"
   ]
  },
  {
   "cell_type": "code",
   "execution_count": 1,
   "id": "b1552bff",
   "metadata": {},
   "outputs": [],
   "source": [
    "import pandas as pd\n",
    "import numpy as np"
   ]
  },
  {
   "cell_type": "markdown",
   "id": "9abeb51f",
   "metadata": {},
   "source": [
    "Для линейных моделей регрессии выход\n",
    "является линейной \n",
    "функцией признаков: линией, плоскостью или гиперплоскостью (для \n",
    "большого количества измерений). Для линейных моделей \n",
    "классификации граница принятия решений (decision boundary) является \n",
    "линейной функцией аргумента. Другими словами, (бинарный) линейный\n",
    "классификатор – это классификатор, который разделяет два класса с \n",
    "помощью линии, плоскости или гиперплоскости."
   ]
  },
  {
   "cell_type": "markdown",
   "id": "d1a174e5",
   "metadata": {},
   "source": [
    "##### Существует масса алгоритмов обучения линейных моделей. Два критерия задают различия между алгоритмами:\n",
    "- Измеряемые метрики качества подгонки обучающих данных;\n",
    "- Факт использования регуляризации и вид регуляризации, если она \n",
    "используется."
   ]
  },
  {
   "cell_type": "code",
   "execution_count": 2,
   "id": "b408b8a4",
   "metadata": {},
   "outputs": [],
   "source": [
    "from sklearn.datasets import load_breast_cancer"
   ]
  },
  {
   "cell_type": "code",
   "execution_count": 3,
   "id": "34c4cc84",
   "metadata": {},
   "outputs": [
    {
     "data": {
      "text/plain": [
       "dict_keys(['data', 'target', 'frame', 'target_names', 'DESCR', 'feature_names', 'filename', 'data_module'])"
      ]
     },
     "execution_count": 3,
     "metadata": {},
     "output_type": "execute_result"
    }
   ],
   "source": [
    "canser_info = load_breast_cancer()  # данные об опухолях и медицинских признаках \n",
    "canser_info.keys()"
   ]
  },
  {
   "cell_type": "code",
   "execution_count": 4,
   "id": "55fdf75e",
   "metadata": {},
   "outputs": [
    {
     "data": {
      "text/html": [
       "<div>\n",
       "<style scoped>\n",
       "    .dataframe tbody tr th:only-of-type {\n",
       "        vertical-align: middle;\n",
       "    }\n",
       "\n",
       "    .dataframe tbody tr th {\n",
       "        vertical-align: top;\n",
       "    }\n",
       "\n",
       "    .dataframe thead th {\n",
       "        text-align: right;\n",
       "    }\n",
       "</style>\n",
       "<table border=\"1\" class=\"dataframe\">\n",
       "  <thead>\n",
       "    <tr style=\"text-align: right;\">\n",
       "      <th></th>\n",
       "      <th>mean radius</th>\n",
       "      <th>mean texture</th>\n",
       "      <th>mean perimeter</th>\n",
       "      <th>mean area</th>\n",
       "      <th>mean smoothness</th>\n",
       "      <th>mean compactness</th>\n",
       "      <th>mean concavity</th>\n",
       "      <th>mean concave points</th>\n",
       "      <th>mean symmetry</th>\n",
       "      <th>mean fractal dimension</th>\n",
       "      <th>...</th>\n",
       "      <th>worst radius</th>\n",
       "      <th>worst texture</th>\n",
       "      <th>worst perimeter</th>\n",
       "      <th>worst area</th>\n",
       "      <th>worst smoothness</th>\n",
       "      <th>worst compactness</th>\n",
       "      <th>worst concavity</th>\n",
       "      <th>worst concave points</th>\n",
       "      <th>worst symmetry</th>\n",
       "      <th>worst fractal dimension</th>\n",
       "    </tr>\n",
       "  </thead>\n",
       "  <tbody>\n",
       "    <tr>\n",
       "      <th>0</th>\n",
       "      <td>17.99</td>\n",
       "      <td>10.38</td>\n",
       "      <td>122.80</td>\n",
       "      <td>1001.0</td>\n",
       "      <td>0.11840</td>\n",
       "      <td>0.27760</td>\n",
       "      <td>0.30010</td>\n",
       "      <td>0.14710</td>\n",
       "      <td>0.2419</td>\n",
       "      <td>0.07871</td>\n",
       "      <td>...</td>\n",
       "      <td>25.380</td>\n",
       "      <td>17.33</td>\n",
       "      <td>184.60</td>\n",
       "      <td>2019.0</td>\n",
       "      <td>0.16220</td>\n",
       "      <td>0.66560</td>\n",
       "      <td>0.7119</td>\n",
       "      <td>0.2654</td>\n",
       "      <td>0.4601</td>\n",
       "      <td>0.11890</td>\n",
       "    </tr>\n",
       "    <tr>\n",
       "      <th>1</th>\n",
       "      <td>20.57</td>\n",
       "      <td>17.77</td>\n",
       "      <td>132.90</td>\n",
       "      <td>1326.0</td>\n",
       "      <td>0.08474</td>\n",
       "      <td>0.07864</td>\n",
       "      <td>0.08690</td>\n",
       "      <td>0.07017</td>\n",
       "      <td>0.1812</td>\n",
       "      <td>0.05667</td>\n",
       "      <td>...</td>\n",
       "      <td>24.990</td>\n",
       "      <td>23.41</td>\n",
       "      <td>158.80</td>\n",
       "      <td>1956.0</td>\n",
       "      <td>0.12380</td>\n",
       "      <td>0.18660</td>\n",
       "      <td>0.2416</td>\n",
       "      <td>0.1860</td>\n",
       "      <td>0.2750</td>\n",
       "      <td>0.08902</td>\n",
       "    </tr>\n",
       "    <tr>\n",
       "      <th>2</th>\n",
       "      <td>19.69</td>\n",
       "      <td>21.25</td>\n",
       "      <td>130.00</td>\n",
       "      <td>1203.0</td>\n",
       "      <td>0.10960</td>\n",
       "      <td>0.15990</td>\n",
       "      <td>0.19740</td>\n",
       "      <td>0.12790</td>\n",
       "      <td>0.2069</td>\n",
       "      <td>0.05999</td>\n",
       "      <td>...</td>\n",
       "      <td>23.570</td>\n",
       "      <td>25.53</td>\n",
       "      <td>152.50</td>\n",
       "      <td>1709.0</td>\n",
       "      <td>0.14440</td>\n",
       "      <td>0.42450</td>\n",
       "      <td>0.4504</td>\n",
       "      <td>0.2430</td>\n",
       "      <td>0.3613</td>\n",
       "      <td>0.08758</td>\n",
       "    </tr>\n",
       "    <tr>\n",
       "      <th>3</th>\n",
       "      <td>11.42</td>\n",
       "      <td>20.38</td>\n",
       "      <td>77.58</td>\n",
       "      <td>386.1</td>\n",
       "      <td>0.14250</td>\n",
       "      <td>0.28390</td>\n",
       "      <td>0.24140</td>\n",
       "      <td>0.10520</td>\n",
       "      <td>0.2597</td>\n",
       "      <td>0.09744</td>\n",
       "      <td>...</td>\n",
       "      <td>14.910</td>\n",
       "      <td>26.50</td>\n",
       "      <td>98.87</td>\n",
       "      <td>567.7</td>\n",
       "      <td>0.20980</td>\n",
       "      <td>0.86630</td>\n",
       "      <td>0.6869</td>\n",
       "      <td>0.2575</td>\n",
       "      <td>0.6638</td>\n",
       "      <td>0.17300</td>\n",
       "    </tr>\n",
       "    <tr>\n",
       "      <th>4</th>\n",
       "      <td>20.29</td>\n",
       "      <td>14.34</td>\n",
       "      <td>135.10</td>\n",
       "      <td>1297.0</td>\n",
       "      <td>0.10030</td>\n",
       "      <td>0.13280</td>\n",
       "      <td>0.19800</td>\n",
       "      <td>0.10430</td>\n",
       "      <td>0.1809</td>\n",
       "      <td>0.05883</td>\n",
       "      <td>...</td>\n",
       "      <td>22.540</td>\n",
       "      <td>16.67</td>\n",
       "      <td>152.20</td>\n",
       "      <td>1575.0</td>\n",
       "      <td>0.13740</td>\n",
       "      <td>0.20500</td>\n",
       "      <td>0.4000</td>\n",
       "      <td>0.1625</td>\n",
       "      <td>0.2364</td>\n",
       "      <td>0.07678</td>\n",
       "    </tr>\n",
       "    <tr>\n",
       "      <th>...</th>\n",
       "      <td>...</td>\n",
       "      <td>...</td>\n",
       "      <td>...</td>\n",
       "      <td>...</td>\n",
       "      <td>...</td>\n",
       "      <td>...</td>\n",
       "      <td>...</td>\n",
       "      <td>...</td>\n",
       "      <td>...</td>\n",
       "      <td>...</td>\n",
       "      <td>...</td>\n",
       "      <td>...</td>\n",
       "      <td>...</td>\n",
       "      <td>...</td>\n",
       "      <td>...</td>\n",
       "      <td>...</td>\n",
       "      <td>...</td>\n",
       "      <td>...</td>\n",
       "      <td>...</td>\n",
       "      <td>...</td>\n",
       "      <td>...</td>\n",
       "    </tr>\n",
       "    <tr>\n",
       "      <th>564</th>\n",
       "      <td>21.56</td>\n",
       "      <td>22.39</td>\n",
       "      <td>142.00</td>\n",
       "      <td>1479.0</td>\n",
       "      <td>0.11100</td>\n",
       "      <td>0.11590</td>\n",
       "      <td>0.24390</td>\n",
       "      <td>0.13890</td>\n",
       "      <td>0.1726</td>\n",
       "      <td>0.05623</td>\n",
       "      <td>...</td>\n",
       "      <td>25.450</td>\n",
       "      <td>26.40</td>\n",
       "      <td>166.10</td>\n",
       "      <td>2027.0</td>\n",
       "      <td>0.14100</td>\n",
       "      <td>0.21130</td>\n",
       "      <td>0.4107</td>\n",
       "      <td>0.2216</td>\n",
       "      <td>0.2060</td>\n",
       "      <td>0.07115</td>\n",
       "    </tr>\n",
       "    <tr>\n",
       "      <th>565</th>\n",
       "      <td>20.13</td>\n",
       "      <td>28.25</td>\n",
       "      <td>131.20</td>\n",
       "      <td>1261.0</td>\n",
       "      <td>0.09780</td>\n",
       "      <td>0.10340</td>\n",
       "      <td>0.14400</td>\n",
       "      <td>0.09791</td>\n",
       "      <td>0.1752</td>\n",
       "      <td>0.05533</td>\n",
       "      <td>...</td>\n",
       "      <td>23.690</td>\n",
       "      <td>38.25</td>\n",
       "      <td>155.00</td>\n",
       "      <td>1731.0</td>\n",
       "      <td>0.11660</td>\n",
       "      <td>0.19220</td>\n",
       "      <td>0.3215</td>\n",
       "      <td>0.1628</td>\n",
       "      <td>0.2572</td>\n",
       "      <td>0.06637</td>\n",
       "    </tr>\n",
       "    <tr>\n",
       "      <th>566</th>\n",
       "      <td>16.60</td>\n",
       "      <td>28.08</td>\n",
       "      <td>108.30</td>\n",
       "      <td>858.1</td>\n",
       "      <td>0.08455</td>\n",
       "      <td>0.10230</td>\n",
       "      <td>0.09251</td>\n",
       "      <td>0.05302</td>\n",
       "      <td>0.1590</td>\n",
       "      <td>0.05648</td>\n",
       "      <td>...</td>\n",
       "      <td>18.980</td>\n",
       "      <td>34.12</td>\n",
       "      <td>126.70</td>\n",
       "      <td>1124.0</td>\n",
       "      <td>0.11390</td>\n",
       "      <td>0.30940</td>\n",
       "      <td>0.3403</td>\n",
       "      <td>0.1418</td>\n",
       "      <td>0.2218</td>\n",
       "      <td>0.07820</td>\n",
       "    </tr>\n",
       "    <tr>\n",
       "      <th>567</th>\n",
       "      <td>20.60</td>\n",
       "      <td>29.33</td>\n",
       "      <td>140.10</td>\n",
       "      <td>1265.0</td>\n",
       "      <td>0.11780</td>\n",
       "      <td>0.27700</td>\n",
       "      <td>0.35140</td>\n",
       "      <td>0.15200</td>\n",
       "      <td>0.2397</td>\n",
       "      <td>0.07016</td>\n",
       "      <td>...</td>\n",
       "      <td>25.740</td>\n",
       "      <td>39.42</td>\n",
       "      <td>184.60</td>\n",
       "      <td>1821.0</td>\n",
       "      <td>0.16500</td>\n",
       "      <td>0.86810</td>\n",
       "      <td>0.9387</td>\n",
       "      <td>0.2650</td>\n",
       "      <td>0.4087</td>\n",
       "      <td>0.12400</td>\n",
       "    </tr>\n",
       "    <tr>\n",
       "      <th>568</th>\n",
       "      <td>7.76</td>\n",
       "      <td>24.54</td>\n",
       "      <td>47.92</td>\n",
       "      <td>181.0</td>\n",
       "      <td>0.05263</td>\n",
       "      <td>0.04362</td>\n",
       "      <td>0.00000</td>\n",
       "      <td>0.00000</td>\n",
       "      <td>0.1587</td>\n",
       "      <td>0.05884</td>\n",
       "      <td>...</td>\n",
       "      <td>9.456</td>\n",
       "      <td>30.37</td>\n",
       "      <td>59.16</td>\n",
       "      <td>268.6</td>\n",
       "      <td>0.08996</td>\n",
       "      <td>0.06444</td>\n",
       "      <td>0.0000</td>\n",
       "      <td>0.0000</td>\n",
       "      <td>0.2871</td>\n",
       "      <td>0.07039</td>\n",
       "    </tr>\n",
       "  </tbody>\n",
       "</table>\n",
       "<p>569 rows × 30 columns</p>\n",
       "</div>"
      ],
      "text/plain": [
       "     mean radius  mean texture  mean perimeter  mean area  mean smoothness  \\\n",
       "0          17.99         10.38          122.80     1001.0          0.11840   \n",
       "1          20.57         17.77          132.90     1326.0          0.08474   \n",
       "2          19.69         21.25          130.00     1203.0          0.10960   \n",
       "3          11.42         20.38           77.58      386.1          0.14250   \n",
       "4          20.29         14.34          135.10     1297.0          0.10030   \n",
       "..           ...           ...             ...        ...              ...   \n",
       "564        21.56         22.39          142.00     1479.0          0.11100   \n",
       "565        20.13         28.25          131.20     1261.0          0.09780   \n",
       "566        16.60         28.08          108.30      858.1          0.08455   \n",
       "567        20.60         29.33          140.10     1265.0          0.11780   \n",
       "568         7.76         24.54           47.92      181.0          0.05263   \n",
       "\n",
       "     mean compactness  mean concavity  mean concave points  mean symmetry  \\\n",
       "0             0.27760         0.30010              0.14710         0.2419   \n",
       "1             0.07864         0.08690              0.07017         0.1812   \n",
       "2             0.15990         0.19740              0.12790         0.2069   \n",
       "3             0.28390         0.24140              0.10520         0.2597   \n",
       "4             0.13280         0.19800              0.10430         0.1809   \n",
       "..                ...             ...                  ...            ...   \n",
       "564           0.11590         0.24390              0.13890         0.1726   \n",
       "565           0.10340         0.14400              0.09791         0.1752   \n",
       "566           0.10230         0.09251              0.05302         0.1590   \n",
       "567           0.27700         0.35140              0.15200         0.2397   \n",
       "568           0.04362         0.00000              0.00000         0.1587   \n",
       "\n",
       "     mean fractal dimension  ...  worst radius  worst texture  \\\n",
       "0                   0.07871  ...        25.380          17.33   \n",
       "1                   0.05667  ...        24.990          23.41   \n",
       "2                   0.05999  ...        23.570          25.53   \n",
       "3                   0.09744  ...        14.910          26.50   \n",
       "4                   0.05883  ...        22.540          16.67   \n",
       "..                      ...  ...           ...            ...   \n",
       "564                 0.05623  ...        25.450          26.40   \n",
       "565                 0.05533  ...        23.690          38.25   \n",
       "566                 0.05648  ...        18.980          34.12   \n",
       "567                 0.07016  ...        25.740          39.42   \n",
       "568                 0.05884  ...         9.456          30.37   \n",
       "\n",
       "     worst perimeter  worst area  worst smoothness  worst compactness  \\\n",
       "0             184.60      2019.0           0.16220            0.66560   \n",
       "1             158.80      1956.0           0.12380            0.18660   \n",
       "2             152.50      1709.0           0.14440            0.42450   \n",
       "3              98.87       567.7           0.20980            0.86630   \n",
       "4             152.20      1575.0           0.13740            0.20500   \n",
       "..               ...         ...               ...                ...   \n",
       "564           166.10      2027.0           0.14100            0.21130   \n",
       "565           155.00      1731.0           0.11660            0.19220   \n",
       "566           126.70      1124.0           0.11390            0.30940   \n",
       "567           184.60      1821.0           0.16500            0.86810   \n",
       "568            59.16       268.6           0.08996            0.06444   \n",
       "\n",
       "     worst concavity  worst concave points  worst symmetry  \\\n",
       "0             0.7119                0.2654          0.4601   \n",
       "1             0.2416                0.1860          0.2750   \n",
       "2             0.4504                0.2430          0.3613   \n",
       "3             0.6869                0.2575          0.6638   \n",
       "4             0.4000                0.1625          0.2364   \n",
       "..               ...                   ...             ...   \n",
       "564           0.4107                0.2216          0.2060   \n",
       "565           0.3215                0.1628          0.2572   \n",
       "566           0.3403                0.1418          0.2218   \n",
       "567           0.9387                0.2650          0.4087   \n",
       "568           0.0000                0.0000          0.2871   \n",
       "\n",
       "     worst fractal dimension  \n",
       "0                    0.11890  \n",
       "1                    0.08902  \n",
       "2                    0.08758  \n",
       "3                    0.17300  \n",
       "4                    0.07678  \n",
       "..                       ...  \n",
       "564                  0.07115  \n",
       "565                  0.06637  \n",
       "566                  0.07820  \n",
       "567                  0.12400  \n",
       "568                  0.07039  \n",
       "\n",
       "[569 rows x 30 columns]"
      ]
     },
     "execution_count": 4,
     "metadata": {},
     "output_type": "execute_result"
    }
   ],
   "source": [
    "canser_data = pd.DataFrame(canser_info.data, columns=canser_info.feature_names)\n",
    "canser_data"
   ]
  },
  {
   "cell_type": "code",
   "execution_count": 5,
   "id": "e44ecb6d",
   "metadata": {},
   "outputs": [],
   "source": [
    "canser_target = canser_info.target"
   ]
  },
  {
   "cell_type": "code",
   "execution_count": 6,
   "id": "d063c0d8",
   "metadata": {},
   "outputs": [],
   "source": [
    "from sklearn.model_selection import train_test_split\n",
    "\n",
    "X_train, X_test, y_train, y_test = train_test_split(canser_data,canser_target,random_state=42)"
   ]
  },
  {
   "cell_type": "markdown",
   "id": "23020797",
   "metadata": {},
   "source": [
    "### *Логистическая регрессия* и *метод опорных векторов* для **бинарной классификации**"
   ]
  },
  {
   "cell_type": "markdown",
   "id": "49d72192",
   "metadata": {},
   "source": [
    "Логистическая регрессия - это метод статистического анализа, используемый для прогнозирования вероятности возникновения события на основе одного или нескольких предикторов. Основная идея заключается в том, чтобы оценить вероятность принадлежности к определенному классу (обычно два класса) путем применения логистической функции к комбинации линейных предикторов."
   ]
  },
  {
   "cell_type": "code",
   "execution_count": 7,
   "id": "d3e2ed9a",
   "metadata": {},
   "outputs": [],
   "source": [
    "from sklearn.linear_model import LogisticRegression"
   ]
  },
  {
   "cell_type": "code",
   "execution_count": 8,
   "id": "78c40307",
   "metadata": {},
   "outputs": [
    {
     "name": "stdout",
     "output_type": "stream",
     "text": [
      "Правильность на тестовой выборке: 0.946\n",
      "Правильность на тестовой выборке: 0.958\n"
     ]
    },
    {
     "name": "stderr",
     "output_type": "stream",
     "text": [
      "C:\\Users\\dermi\\anaconda3\\lib\\site-packages\\sklearn\\linear_model\\_logistic.py:444: ConvergenceWarning: lbfgs failed to converge (status=1):\n",
      "STOP: TOTAL NO. of ITERATIONS REACHED LIMIT.\n",
      "\n",
      "Increase the number of iterations (max_iter) or scale the data as shown in:\n",
      "    https://scikit-learn.org/stable/modules/preprocessing.html\n",
      "Please also refer to the documentation for alternative solver options:\n",
      "    https://scikit-learn.org/stable/modules/linear_model.html#logistic-regression\n",
      "  n_iter_i = _check_optimize_result(\n"
     ]
    }
   ],
   "source": [
    "log_reg = LogisticRegression().fit(X_train, y_train)  # по умолчанию C=1 и используется penalty=l2 регуляризация\n",
    "\n",
    "print(f'Правильность на тестовой выборке: {log_reg.score(X_train, y_train):.3f}')\n",
    "print(f'Правильность на тестовой выборке: {log_reg.score(X_test, y_test):.3f}')"
   ]
  },
  {
   "cell_type": "markdown",
   "id": "1b6ed269",
   "metadata": {},
   "source": [
    "Заметим, что при достаточно одинаковом качестве И на тестовом наборе, И на обучающем, то модель, скорее, **НЕДООБУЧЕНА** "
   ]
  },
  {
   "cell_type": "markdown",
   "id": "ab8c01f4",
   "metadata": {},
   "source": [
    "Для LogisticRegression и LinearSVC *компромиссный параметр, \n",
    "который определяет степень регуляризации*, **называется C, и более \n",
    "высокие значения C соответствуют меньшей регуляризации**. \n",
    "- - - - - -  -\n",
    "Другими словами, когда вы используете высокое значение параметра C, \n",
    "LogisticRegression и LinearSVC пытаются подогнать модель к \n",
    "обучающим данным как можно лучше, тогда как при низких значениях \n",
    "параметра C модели делают больший акцент на поиске вектора \n",
    "коэффициентов (w), близкого к нулю."
   ]
  },
  {
   "cell_type": "code",
   "execution_count": 9,
   "id": "7402765f",
   "metadata": {},
   "outputs": [
    {
     "name": "stdout",
     "output_type": "stream",
     "text": [
      "Правильность на тестовой выборке: 0.941\n",
      "Правильность на тестовой выборке: 0.965\n"
     ]
    },
    {
     "name": "stderr",
     "output_type": "stream",
     "text": [
      "C:\\Users\\dermi\\anaconda3\\lib\\site-packages\\sklearn\\linear_model\\_logistic.py:444: ConvergenceWarning: lbfgs failed to converge (status=1):\n",
      "STOP: TOTAL NO. of ITERATIONS REACHED LIMIT.\n",
      "\n",
      "Increase the number of iterations (max_iter) or scale the data as shown in:\n",
      "    https://scikit-learn.org/stable/modules/preprocessing.html\n",
      "Please also refer to the documentation for alternative solver options:\n",
      "    https://scikit-learn.org/stable/modules/linear_model.html#logistic-regression\n",
      "  n_iter_i = _check_optimize_result(\n"
     ]
    }
   ],
   "source": [
    "# более гибкая модель\n",
    "\n",
    "log_reg = LogisticRegression(C=100)\n",
    "log_reg.fit(X_train, y_train)\n",
    "log_reg.score(X_test, y_test)\n",
    "print(f'Правильность на тестовой выборке: {log_reg.score(X_train, y_train):.3f}')\n",
    "print(f'Правильность на тестовой выборке: {log_reg.score(X_test, y_test):.3f}')"
   ]
  },
  {
   "cell_type": "code",
   "execution_count": 10,
   "id": "9ef8eef9",
   "metadata": {},
   "outputs": [
    {
     "name": "stdout",
     "output_type": "stream",
     "text": [
      "Правильность на тестовой выборке: 0.911\n",
      "Правильность на тестовой выборке: 0.951\n"
     ]
    }
   ],
   "source": [
    "# более общая и недообученная модель с регуляризацией L1\n",
    "\n",
    "log_reg = LogisticRegression(C=0.01, penalty='l1', solver='liblinear')\n",
    "log_reg.fit(X_train, y_train)\n",
    "log_reg.score(X_test, y_test)\n",
    "print(f'Правильность на тестовой выборке: {log_reg.score(X_train, y_train):.3f}')\n",
    "print(f'Правильность на тестовой выборке: {log_reg.score(X_test, y_test):.3f}')"
   ]
  },
  {
   "cell_type": "markdown",
   "id": "4a71da9e",
   "metadata": {},
   "source": [
    "Существует еще одна интересная деталь, связанная с работой\n",
    "параметра C. Использование низких значений C приводит к тому, что\n",
    "алгоритмы пытаются подстроиться под «большинство» точек данных, \n",
    "тогда как использование более высоких значений C подчеркивает \n",
    "важность того, чтобы каждая отдельная точка данных была\n",
    "классифицирована правильно"
   ]
  },
  {
   "attachments": {
    "image.png": {
     "image/png": "[encoded data removed]"
    }
   },
   "cell_type": "markdown",
   "id": "1e37352d",
   "metadata": {},
   "source": [
    "![image.png](attachment:image.png)"
   ]
  },
  {
   "cell_type": "code",
   "execution_count": 11,
   "id": "f520dc72",
   "metadata": {},
   "outputs": [],
   "source": [
    "from sklearn.svm import LinearSVC # линейный метод опорных векторов (linear support vector machines) "
   ]
  },
  {
   "cell_type": "markdown",
   "id": "1b6bba81",
   "metadata": {},
   "source": [
    "## Линейный метод опорных векторов (Linear Support Vector Machines, Linear SVM):\n",
    "#### Как работает:\n",
    "Линейный SVM - это метод, который строит гиперплоскость, разделяющую данные в пространстве признаков таким образом, чтобы максимизировать зазор между классами. Гиперплоскость определяется так, чтобы она была как можно дальше от ближайших точек обоих классов, которые называются опорными векторами.\n",
    "Коэффициенты гиперплоскости и веса опорных векторов: Аналогично линейной регрессии, определяют форму гиперплоскости.\n",
    "\n",
    "**Переобучение и недообучение**:\n",
    "- Переобучение: Возможно, когда данные линейно неразделимы и модель стремится максимизировать зазор, допуская ошибки классификации (мягкая граница).\n",
    "- Недообучение: Возможно, когда данные сложны и нелинейны, а модель использует слишком простую гиперплоскость.\n",
    "\n",
    "Выбор параметров:\n",
    "- Параметр регуляризации C: *Определяет компромисс между максимизацией зазора и минимизацией ошибок классификации*. \n",
    "Маленькое значение C сделает зазор более широким, позволяя большему числу ошибок, тогда как большое значение C будет стремиться к правильной классификации за счет уменьшения зазора."
   ]
  },
  {
   "cell_type": "code",
   "execution_count": 12,
   "id": "e5332d48",
   "metadata": {},
   "outputs": [
    {
     "name": "stdout",
     "output_type": "stream",
     "text": [
      "Правильность на тестовой выборке: 0.911\n",
      "Правильность на тестовой выборке: 0.951\n"
     ]
    },
    {
     "name": "stderr",
     "output_type": "stream",
     "text": [
      "C:\\Users\\dermi\\anaconda3\\lib\\site-packages\\sklearn\\svm\\_base.py:1225: ConvergenceWarning: Liblinear failed to converge, increase the number of iterations.\n",
      "  warnings.warn(\n"
     ]
    }
   ],
   "source": [
    "svc = LinearSVC(C=100, penalty='l2')\n",
    "svc.fit(X_train, y_train)\n",
    "svc.score(X_test, y_test)\n",
    "\n",
    "print(f'Правильность на тестовой выборке: {log_reg.score(X_train, y_train):.3f}')\n",
    "print(f'Правильность на тестовой выборке: {log_reg.score(X_test, y_test):.3f}')"
   ]
  },
  {
   "cell_type": "markdown",
   "id": "b8279016",
   "metadata": {},
   "source": [
    "### Мультиклассовая классификация в линейных моделях"
   ]
  },
  {
   "cell_type": "markdown",
   "id": "c02fe35a",
   "metadata": {},
   "source": [
    "Многие линейные модели классификации предназначены лишь для \n",
    "бинарной классификации и не распространяются на случай \n",
    "мультиклассовой классификации (за исключением логистической \n",
    "регрессии). \n",
    "- - - -  - -\n",
    "Общераспространненный подход, позволяющий \n",
    "распространить алгоритм бинарной классификации на случай\n",
    "мультиклассовой классификации называет подходом **«один против \n",
    "остальных»** (one-vs.-rest).В подходе «один против остальных» для\n",
    "каждого класса строится бинарная модель, которая пытается отделить \n",
    "этот класс от всех остальных, в результате чего **количество моделей\n",
    "определяется количеством классов**. Для получения прогноза точка \n",
    "тестового набора подается на все бинарные классификаторы.\n",
    "Классификатор, который выдает по своему классу наибольшее значение,\n",
    "«побеждает» и метка этого класса возвращается в качестве прогноза.\n"
   ]
  },
  {
   "cell_type": "code",
   "execution_count": 13,
   "id": "49507590",
   "metadata": {},
   "outputs": [],
   "source": [
    "from sklearn.datasets import load_iris\n",
    "iris_info = load_iris()\n",
    "iris_data = iris_info.data\n",
    "iris_target = iris_info.target"
   ]
  },
  {
   "cell_type": "code",
   "execution_count": 14,
   "id": "8bffd904",
   "metadata": {},
   "outputs": [],
   "source": [
    "X_train1, X_test1, y_train1, y_test1 = train_test_split(iris_data,iris_target,random_state=42)"
   ]
  },
  {
   "cell_type": "code",
   "execution_count": 15,
   "id": "23226c44",
   "metadata": {},
   "outputs": [
    {
     "name": "stdout",
     "output_type": "stream",
     "text": [
      "Правильность на обучающей выборке: 0.973\n",
      "Правильность на тестовой выборке: 1.000\n"
     ]
    },
    {
     "name": "stderr",
     "output_type": "stream",
     "text": [
      "C:\\Users\\dermi\\anaconda3\\lib\\site-packages\\sklearn\\svm\\_base.py:1225: ConvergenceWarning: Liblinear failed to converge, increase the number of iterations.\n",
      "  warnings.warn(\n"
     ]
    }
   ],
   "source": [
    "lin_svc = LinearSVC().fit(X_train1, y_train1)\n",
    "lin_svc.score(X_test1, y_test1)\n",
    "\n",
    "print(f'Правильность на обучающей выборке: {lin_svc.score(X_train1, y_train1):.3f}')\n",
    "print(f'Правильность на тестовой выборке: {lin_svc.score(X_test1, y_test1):.3f}')"
   ]
  },
  {
   "cell_type": "code",
   "execution_count": 16,
   "id": "2dca43bd",
   "metadata": {},
   "outputs": [
    {
     "data": {
      "text/plain": [
       "array([[ 0.18423782,  0.45122832, -0.80793795, -0.4507124 ],\n",
       "       [ 0.093851  , -0.93127865,  0.31215102, -0.79639569],\n",
       "       [-0.74448259, -1.2065005 ,  1.36540219,  1.58120706]])"
      ]
     },
     "execution_count": 16,
     "metadata": {},
     "output_type": "execute_result"
    }
   ],
   "source": [
    "lin_svc.coef_  # три вектора  для каждого класса ириса"
   ]
  },
  {
   "cell_type": "code",
   "execution_count": 17,
   "id": "9403f21d",
   "metadata": {},
   "outputs": [
    {
     "data": {
      "text/plain": [
       "array([ 0.10956229,  1.74723155, -1.23709257])"
      ]
     },
     "execution_count": 17,
     "metadata": {},
     "output_type": "execute_result"
    }
   ],
   "source": [
    "lin_svc.intercept_  # три свободных члена для каждого класса"
   ]
  },
  {
   "attachments": {
    "image.png": {
     "image/png": "[encoded data removed]"
    }
   },
   "cell_type": "markdown",
   "id": "0c74b942",
   "metadata": {},
   "source": [
    "![image.png](attachment:image.png)"
   ]
  },
  {
   "cell_type": "markdown",
   "id": "c1765927",
   "metadata": {},
   "source": [
    "Линейные модели очень быстро обучаются, а также быстро \n",
    "прогнозируют. Они масштабируются на очень большие наборы данных, \n",
    "а также хорошо работают с разреженными данными. При работе с \n",
    "данными, состоящими из сотен тысяч или миллионов примеров, вас, \n",
    "возможно, заинтересует опция solver='sag' в LogisticRegression и \n",
    "Ridge, которая позволяет получить результаты быстрее, чем настройки \n",
    "по умолчанию. Еще пара опций – это класс SGDClassifier и класс \n",
    "SGDRegressor, реализующие более масштабируемые версии описанных \n",
    "здесь линейных моделей"
   ]
  },
  {
   "cell_type": "code",
   "execution_count": 18,
   "id": "f59cecba",
   "metadata": {},
   "outputs": [
    {
     "name": "stdout",
     "output_type": "stream",
     "text": [
      "Правильность на тестовой выборке: 0.964\n",
      "Правильность на тестовой выборке: 1.000\n"
     ]
    },
    {
     "name": "stderr",
     "output_type": "stream",
     "text": [
      "C:\\Users\\dermi\\anaconda3\\lib\\site-packages\\sklearn\\linear_model\\_logistic.py:444: ConvergenceWarning: lbfgs failed to converge (status=1):\n",
      "STOP: TOTAL NO. of ITERATIONS REACHED LIMIT.\n",
      "\n",
      "Increase the number of iterations (max_iter) or scale the data as shown in:\n",
      "    https://scikit-learn.org/stable/modules/preprocessing.html\n",
      "Please also refer to the documentation for alternative solver options:\n",
      "    https://scikit-learn.org/stable/modules/linear_model.html#logistic-regression\n",
      "  n_iter_i = _check_optimize_result(\n"
     ]
    }
   ],
   "source": [
    "log_reg_multy = LogisticRegression().fit(X_train1,y_train1)\n",
    "log_reg_multy.score(X_test1, y_test1)\n",
    "\n",
    "print(f'Правильность на тестовой выборке: {log_reg_multy.score(X_train1, y_train1):.3f}')\n",
    "print(f'Правильность на тестовой выборке: {log_reg_multy.score(X_test1, y_test1):.3f}')"
   ]
  },
  {
   "cell_type": "code",
   "execution_count": 19,
   "id": "5172e083",
   "metadata": {},
   "outputs": [
    {
     "data": {
      "text/plain": [
       "array([[-0.38920594,  0.91995878, -2.33120466, -0.98315385],\n",
       "       [ 0.49927579, -0.30953763, -0.21518068, -0.73387454],\n",
       "       [-0.11006984, -0.61042115,  2.54638534,  1.71702838]])"
      ]
     },
     "execution_count": 19,
     "metadata": {},
     "output_type": "execute_result"
    }
   ],
   "source": [
    "log_reg_multy.coef_"
   ]
  },
  {
   "cell_type": "markdown",
   "id": "7d5a2483",
   "metadata": {},
   "source": [
    "Математический аппарат мультиклассовой логистической регрессии \n",
    "несколько отличается от подхода «один против остальных», однако он\n",
    "также дает один вектор коэффициентов и константу для каждого класса\n",
    "и использует тот же самый способ получения прогнозов."
   ]
  },
  {
   "cell_type": "markdown",
   "id": "37381627",
   "metadata": {},
   "source": [
    "## Наивные байесовские классификаторы"
   ]
  },
  {
   "cell_type": "markdown",
   "id": "ceebe84b",
   "metadata": {},
   "source": [
    "Наивные байесовские классификаторы представляют собой семейство \n",
    "классификаторов, которые очень схожи с линейными моделями, \n",
    "рассмотренными в предыдущем разделе. **Однако они имеют тенденцию\n",
    "обучаться быстрее**. \n",
    "- Цена, которую приходится платить за такую \n",
    "эффективность – немного более низкая обобщающая способность\n",
    "моделей Байеса по сравнению с линейными классификаторами типа\n",
    "LogisticRegression и LinearSVC.\n"
   ]
  },
  {
   "cell_type": "markdown",
   "id": "94f9a0f4",
   "metadata": {},
   "source": [
    "В scikit-learn реализованы три вида наивных байесовских \n",
    "классификаторов: GaussianNB, BernoulliNB и MultinomialNB. GaussianNB\n",
    "можно применить к любым непрерывным данным, в то время как \n",
    "BernoulliNB принимает бинарные данные, MultinomialNB принимает \n",
    "счетные или дискретные данные (то есть каждый признак представляет \n",
    "собой подсчет целочисленных значений какой-то характеристики, \n",
    "84\n",
    "например, речь может идти о частоте встречаемости слова в \n",
    "предложении). BernoulliNB и MultinomialNB в основном используются \n",
    "для классификации текстовых данных."
   ]
  },
  {
   "cell_type": "code",
   "execution_count": null,
   "id": "07300710",
   "metadata": {},
   "outputs": [],
   "source": [
    "from sklearn.naive_bayes import GaussianNB"
   ]
  },
  {
   "cell_type": "code",
   "execution_count": null,
   "id": "40fd3eff",
   "metadata": {},
   "outputs": [],
   "source": [
    "gaus_clf = GaussianNB().fit(X_train1,y_train1)\n",
    "gaus_clf.score(X_test1, y_test1)\n",
    "\n",
    "print(f'Правильность на тестовой выборке: {gaus_clf.score(X_train1, y_train1):.3f}')\n",
    "print(f'Правильность на тестовой выборке: {gaus_clf.score(X_test1, y_test1):.3f}')"
   ]
  },
  {
   "cell_type": "markdown",
   "id": "622e0156",
   "metadata": {},
   "source": [
    "### Преимущества наивных байесвоских классификаторов:\n",
    "- скорость\n",
    "- простота\n",
    "\n",
    "### Недостатки:\n",
    "- низкая точность на сложных задачах\n",
    "- чувствительность к качеству данных\n",
    "\n",
    "#### Где применять:\n",
    "- текстовая классификация\n",
    "- работа с категориальными данными\n",
    "- простые задачи \n",
    "- большой объем данных, где требуется скорость"
   ]
  },
  {
   "cell_type": "code",
   "execution_count": null,
   "id": "447065a8",
   "metadata": {},
   "outputs": [],
   "source": []
  }
 ],
 "metadata": {
  "kernelspec": {
   "display_name": "Python 3 (ipykernel)",
   "language": "python",
   "name": "python3"
  },
  "language_info": {
   "codemirror_mode": {
    "name": "ipython",
    "version": 3
   },
   "file_extension": ".py",
   "mimetype": "text/x-python",
   "name": "python",
   "nbconvert_exporter": "python",
   "pygments_lexer": "ipython3",
   "version": "3.9.18"
  }
 },
 "nbformat": 4,
 "nbformat_minor": 5
}
