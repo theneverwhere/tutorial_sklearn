{
 "cells": [
  {
   "cell_type": "markdown",
   "id": "c054c94d",
   "metadata": {},
   "source": [
    "## Одномерные нелинейные преобразования"
   ]
  },
  {
   "cell_type": "code",
   "execution_count": 1,
   "id": "79be8a48",
   "metadata": {},
   "outputs": [],
   "source": [
    "import numpy as np\n",
    "import pandas as pd\n",
    "import matplotlib.pyplot as plt\n",
    "from sklearn.model_selection import train_test_split"
   ]
  },
  {
   "cell_type": "code",
   "execution_count": 4,
   "id": "8c6ca85b",
   "metadata": {},
   "outputs": [],
   "source": [
    "# генерация набора распределенных данных\n",
    "\n",
    "rnd = np.random.RandomState(0)\n",
    "X_org = rnd.normal(size=(1000, 3))\n",
    "w = rnd.normal(size=3)\n",
    "X = rnd.poisson(10 * np.exp(X_org))\n",
    "y = np.dot(X_org, w)"
   ]
  },
  {
   "cell_type": "code",
   "execution_count": 5,
   "id": "5fd50d81",
   "metadata": {},
   "outputs": [
    {
     "data": {
      "text/plain": [
       "array([28, 38, 68, 48, 61, 59, 45, 56, 37, 40, 35, 34, 36, 26, 23, 26, 27,\n",
       "       21, 23, 23, 18, 21, 10,  9, 17,  9,  7, 14, 12,  7,  3,  8,  4,  5,\n",
       "        5,  3,  4,  2,  4,  1,  1,  3,  2,  5,  3,  8,  2,  5,  2,  1,  2,\n",
       "        3,  3,  2,  2,  3,  3,  0,  1,  2,  1,  0,  0,  3,  1,  0,  0,  0,\n",
       "        1,  3,  0,  1,  0,  2,  0,  1,  1,  0,  0,  0,  0,  1,  0,  0,  2,\n",
       "        2,  0,  1,  1,  0,  0,  0,  0,  1,  1,  0,  0,  0,  0,  0,  0,  0,\n",
       "        1,  0,  0,  0,  0,  0,  1,  1,  0,  0,  1,  0,  0,  0,  0,  0,  0,\n",
       "        0,  1,  0,  0,  0,  0,  1,  0,  0,  0,  0,  0,  0,  0,  0,  0,  0,\n",
       "        0,  0,  0,  0,  1], dtype=int64)"
      ]
     },
     "execution_count": 5,
     "metadata": {},
     "output_type": "execute_result"
    }
   ],
   "source": [
    "np.bincount(X[: ,0]) "
   ]
  },
  {
   "cell_type": "code",
   "execution_count": 8,
   "id": "0d650ff1",
   "metadata": {},
   "outputs": [
    {
     "data": {
      "image/png": "[encoded data removed]",
      "text/plain": [
       "<Figure size 640x480 with 1 Axes>"
      ]
     },
     "metadata": {},
     "output_type": "display_data"
    }
   ],
   "source": [
    "plt.hist(X[:,0], bins=55);"
   ]
  },
  {
   "cell_type": "markdown",
   "id": "955a4ca1",
   "metadata": {},
   "source": [
    "Полученное\n",
    "распределение значений (высокая частота встречаемости маленьких \n",
    "значений и низкая частота встречаемости больших значений) является \n",
    "очень распространенным явлением в реальной практике. **Однако для \n",
    "большинства линейных моделей оно может представлять трудность**."
   ]
  },
  {
   "cell_type": "code",
   "execution_count": 10,
   "id": "473c013b",
   "metadata": {},
   "outputs": [
    {
     "name": "stdout",
     "output_type": "stream",
     "text": [
      "R-квадрат на тестовом наборе: 0.622\n"
     ]
    }
   ],
   "source": [
    "from sklearn.linear_model import Ridge\n",
    "\n",
    "X_train, X_test, y_train, y_test = train_test_split(X, y, random_state=0)\n",
    "score = Ridge().fit(X_train, y_train).score(X_test, y_test)\n",
    "print(\"R-квадрат на тестовом наборе: {:.3f}\".format(score))"
   ]
  },
  {
   "cell_type": "markdown",
   "id": "df555ec9",
   "metadata": {},
   "source": [
    "Видно, что из-за относительно низкого значения R гребневая \n",
    "регрессия не может должным образом смоделировать взаимосвязь между \n",
    "X и у. **Впрочем, применение логарифмического преобразования может \n",
    "помочь**. Поскольку в данных появляется значение 0 (а логарифм 0 не \n",
    "определен), мы не можем просто взять и применить log, вместо этого мы \n",
    "должны вычислить log(X + 1)"
   ]
  },
  {
   "cell_type": "code",
   "execution_count": 11,
   "id": "189f3bb8",
   "metadata": {},
   "outputs": [],
   "source": [
    "X_train_log = np.log(X_train + 1)\n",
    "X_test_log = np.log(X_test + 1)"
   ]
  },
  {
   "cell_type": "code",
   "execution_count": 17,
   "id": "aa9bc946",
   "metadata": {},
   "outputs": [
    {
     "data": {
      "text/plain": [
       "Text(0.5, 0, 'Значение')"
      ]
     },
     "execution_count": 17,
     "metadata": {},
     "output_type": "execute_result"
    },
    {
     "data": {
      "image/png": "[encoded data removed]",
      "text/plain": [
       "<Figure size 640x480 with 1 Axes>"
      ]
     },
     "metadata": {},
     "output_type": "display_data"
    }
   ],
   "source": [
    "plt.hist(X_train_log[:, 0], bins=25)\n",
    "plt.ylabel(\"Частота\")\n",
    "plt.xlabel(\"Значение\")"
   ]
  },
  {
   "cell_type": "code",
   "execution_count": 18,
   "id": "2fb90385",
   "metadata": {},
   "outputs": [
    {
     "name": "stdout",
     "output_type": "stream",
     "text": [
      "R-квадрат на тестовом наборе: 0.875\n"
     ]
    }
   ],
   "source": [
    "score = Ridge().fit(X_train_log, y_train).score(X_test_log, y_test)\n",
    "print(\"R-квадрат на тестовом наборе: {:.3f}\".format(score))"
   ]
  },
  {
   "cell_type": "markdown",
   "id": "1788c8f5",
   "metadata": {},
   "source": [
    "В этом примере все признаки имели одинаковые свойства. \n",
    "Такое редко бывает на практике, и как правило, лишь некоторые \n",
    "признаки нуждаются в преобразовании, либо в ряде случаев каждый\n",
    "признак необходимо преобразовывать по-разному. Как мы уже \n",
    "упоминали ранее, эти виды преобразований не имеют значения для \n",
    "моделей на основе дерева, но могут иметь важное значение для линейных \n",
    "моделей. Иногда при построении регрессии целесообразно преобразовать \n",
    "зависимую переменную у. Прогнозирование частот (скажем, количества\n",
    "заказов) является довольно распространенной задачей, и преобразование \n",
    "log(у + 1) часто помогает."
   ]
  },
  {
   "cell_type": "markdown",
   "id": "6f3ea736",
   "metadata": {},
   "source": [
    "## Вместо вывода "
   ]
  },
  {
   "cell_type": "markdown",
   "id": "b1e34800",
   "metadata": {},
   "source": [
    "Как вы видели в предыдущих примерах, биннинг, полиномы и \n",
    "взаимодействия могут иметь огромное влияние на качество работы \n",
    "модели. Особенно это актуально для менее сложных моделей типа\n",
    "линейных моделей и наивных байесовских моделей. С другой стороны, \n",
    "модели на основе дерева, как правило, могут обнаружить важные \n",
    "взаимодействия самостоятельно и чаще всего не требуют явного \n",
    "преобразования данных. Использование биннинга, взаимодействий и \n",
    "полиномов в ряде случаев может положительно сказаться на работе \n",
    "моделей типа SVM, ближайших соседей и нейронных сетей, однако \n",
    "последствия, возникающие в результате этих преобразований,\n",
    "представляются менее ясными в отличие от преобразований, \n",
    "применяемых в линейных моделях."
   ]
  },
  {
   "cell_type": "code",
   "execution_count": null,
   "id": "17df2cb3",
   "metadata": {},
   "outputs": [],
   "source": []
  }
 ],
 "metadata": {
  "kernelspec": {
   "display_name": "Python 3 (ipykernel)",
   "language": "python",
   "name": "python3"
  },
  "language_info": {
   "codemirror_mode": {
    "name": "ipython",
    "version": 3
   },
   "file_extension": ".py",
   "mimetype": "text/x-python",
   "name": "python",
   "nbconvert_exporter": "python",
   "pygments_lexer": "ipython3",
   "version": "3.9.13"
  }
 },
 "nbformat": 4,
 "nbformat_minor": 5
}
