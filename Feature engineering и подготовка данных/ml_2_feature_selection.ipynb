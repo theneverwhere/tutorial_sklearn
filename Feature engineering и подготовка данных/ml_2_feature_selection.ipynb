{
 "cells": [
  {
   "cell_type": "markdown",
   "id": "f33269c6",
   "metadata": {},
   "source": [
    "# Отбор признаков "
   ]
  },
  {
   "cell_type": "code",
   "execution_count": 1,
   "id": "3e541b6f",
   "metadata": {},
   "outputs": [],
   "source": [
    "import numpy as np\n",
    "import pandas as pd\n",
    "from sklearn.datasets import load_breast_cancer\n",
    "from sklearn.model_selection import train_test_split\n",
    "import matplotlib.pyplot as plt "
   ]
  },
  {
   "cell_type": "markdown",
   "id": "2342f7e0",
   "metadata": {},
   "source": [
    "При таком разнообразии способов, позволяющих сгенерировать новые\n",
    "признаки, у вас, возможно, возникнет искушение увеличить размерность \n",
    "данных, превысив количество исходных признаков. Однако добавление \n",
    "новых признаков делает модели более сложными и поэтому увеличивает \n",
    "вероятность переобучения. Добавляя новые признаки или работая с\n",
    "высокоразмерными наборами данных, неплохо бы уменьшить количество \n",
    "признаков и оставить только наиболее полезные из них.\n",
    "Это позволит получить более простые модели с лучшей обобщающей способностью. \n",
    "\n",
    "**Однако как узнать, насколько полезен каждый признак?** \n",
    "\n",
    "Существуют три основные стратегии: **одномерные статистики** (univariate statistics), **отбор\n",
    "на основе модели** (model-based selection) и **итеративный отбор** (iterative\n",
    "selection).\n",
    "*Все эти методы относятся методам машинного обучения с учителем, то есть для подгонки \n",
    "модели им требуется зависимая переменная. Это означает, что нам нужно \n",
    "разбить данные на обучающий и тестовый наборы и осуществить отбор \n",
    "признаков лишь на обучающей выборке*.\n"
   ]
  },
  {
   "cell_type": "markdown",
   "id": "ef51b6c6",
   "metadata": {},
   "source": [
    "### Одномерные статистики"
   ]
  },
  {
   "cell_type": "markdown",
   "id": "2a29b4c4",
   "metadata": {},
   "source": [
    "С помощью одномерных статистик мы определяем наличие \n",
    "статистически значимой взаимосвязи между каждым признаком и\n",
    "зависимой переменной. Затем отбираем признаки, сильнее всего \n",
    "связанные с зависимой переменной (имеющие уровень значимости, не \n",
    "превышающий заданного порогового значения). В случае классификации\n",
    "эта процедура известна как **дисперсионный анализ (ANOVA)**. Ключевым \n",
    "свойством этих тестов является то, что они являются одномерными, то \n",
    "есть они рассматривают каждую характеристику по отдельности. \n",
    "Следовательно признак будет исключен, если он становится\n",
    "информативным лишь в сочетании с другим признаком. Как правило, \n",
    "одномерные тесты очень быстро вычисляются и не требуют построения \n",
    "модели. С другой стороны, они являются полностью независимыми от \n",
    "модели, которой вы, возможно, захотите применить после отбора\n",
    "признаков."
   ]
  },
  {
   "cell_type": "markdown",
   "id": "7b5bfa1d",
   "metadata": {},
   "source": [
    "Чтобы осуществить одномерный отбор признаков в scikit-learn, вам \n",
    "нужно выбрать тест, обычно либо **f_classif** (по умолчанию) для \n",
    "классификации или **f_regression** для регрессии, а также метод \n",
    "исключения признаков, основанный на *р-значениях*, вычисленных в ходе\n",
    "теста. Все методы исключения параметров используют пороговое \n",
    "значение, чтобы исключить все признаки со слишком высоким *р-значением* (высокое p-значение указывает на то, что признак вряд ли \n",
    "связан с зависимой переменной). Методы отличаются способами\n",
    "вычисления этого порогового значения, самым простым из которых \n",
    "являются **SelectKB**, выбирающий фиксированное число k признаков, и \n",
    "**SelectPercentile**, выбирающий фиксированный процент признаков."
   ]
  },
  {
   "cell_type": "code",
   "execution_count": 2,
   "id": "5364a3c5",
   "metadata": {},
   "outputs": [],
   "source": [
    "from sklearn.feature_selection import SelectPercentile, f_classif"
   ]
  },
  {
   "cell_type": "code",
   "execution_count": 3,
   "id": "6981dbf4",
   "metadata": {},
   "outputs": [
    {
     "name": "stdout",
     "output_type": "stream",
     "text": [
      "форма массива X_train: (284, 80)\n",
      "форма массива X_train_selected: (284, 40)\n"
     ]
    }
   ],
   "source": [
    "cancer = load_breast_cancer()\n",
    "\n",
    "# задаем определенное стартовое значение для воспроизводимости результата\n",
    "rng = np.random.RandomState(42)\n",
    "\n",
    "# добавляем к данным шумовые признаки\n",
    "noise = rng.normal(size=(len(cancer.data), 50))\n",
    "\n",
    "# первые 30 признаков являются исходными, остальные 50 являются шумовыми\n",
    "X_w_noise = np.hstack([cancer.data, noise])\n",
    "X_train, X_test, y_train, y_test = train_test_split(X_w_noise, cancer.target, random_state=0, test_size=.5)\n",
    "\n",
    "# используем f_classif (по умолчанию)\n",
    "# и SelectPercentile, чтобы выбрать 50% признаков\n",
    "select = SelectPercentile(score_func=f_classif, percentile=50)\n",
    "select.fit(X_train, y_train)\n",
    "\n",
    "# преобразовываем обучающий набор\n",
    "X_train_selected = select.transform(X_train)\n",
    " \n",
    "print(\"форма массива X_train: {}\".format(X_train.shape))\n",
    "print(\"форма массива X_train_selected: {}\".format(X_train_selected.shape))"
   ]
  },
  {
   "cell_type": "code",
   "execution_count": 4,
   "id": "9b1da5b9",
   "metadata": {},
   "outputs": [
    {
     "name": "stdout",
     "output_type": "stream",
     "text": [
      "[ True  True  True  True  True  True  True  True  True False  True False\n",
      "  True  True  True  True  True  True False False  True  True  True  True\n",
      "  True  True  True  True  True  True False False False  True False  True\n",
      " False False  True False False False False  True False False  True False\n",
      " False  True False  True False False False False False False  True False\n",
      "  True False False False False  True False  True False False False False\n",
      "  True  True False  True False False False False]\n"
     ]
    },
    {
     "data": {
      "text/plain": [
       "Text(0.5, 0, 'Индекс примера')"
      ]
     },
     "execution_count": 4,
     "metadata": {},
     "output_type": "execute_result"
    },
    {
     "data": {
      "image/png": "[encoded data removed]",
      "text/plain": [
       "<Figure size 1600x200 with 1 Axes>"
      ]
     },
     "metadata": {},
     "output_type": "display_data"
    }
   ],
   "source": [
    "mask = select.get_support()\n",
    "print(mask)\n",
    "# визуализируем булевы значения: черный – True, белый – False\n",
    "plt.matshow(mask.reshape(1, -1), cmap='gray_r')\n",
    "plt.xlabel(\"Индекс примера\")"
   ]
  },
  {
   "cell_type": "markdown",
   "id": "cbb2dbe1",
   "metadata": {},
   "source": [
    "Благодаря визуализации видно, что большинство отобранных \n",
    "признаков являются исходными характеристиками, а большинство \n",
    "шумовых признаков были удалены. Тем не менее восстановление \n",
    "исходных признаков далеко от идеала."
   ]
  },
  {
   "cell_type": "code",
   "execution_count": 5,
   "id": "2050e37d",
   "metadata": {},
   "outputs": [
    {
     "name": "stderr",
     "output_type": "stream",
     "text": [
      "C:\\Users\\dermi\\anaconda3\\lib\\site-packages\\sklearn\\linear_model\\_logistic.py:444: ConvergenceWarning: lbfgs failed to converge (status=1):\n",
      "STOP: TOTAL NO. of ITERATIONS REACHED LIMIT.\n",
      "\n",
      "Increase the number of iterations (max_iter) or scale the data as shown in:\n",
      "    https://scikit-learn.org/stable/modules/preprocessing.html\n",
      "Please also refer to the documentation for alternative solver options:\n",
      "    https://scikit-learn.org/stable/modules/linear_model.html#logistic-regression\n",
      "  n_iter_i = _check_optimize_result(\n"
     ]
    },
    {
     "name": "stdout",
     "output_type": "stream",
     "text": [
      "Правильность со всеми признаками: 0.930\n",
      "Правильность только с отобранными признаками: 0.937\n"
     ]
    },
    {
     "name": "stderr",
     "output_type": "stream",
     "text": [
      "C:\\Users\\dermi\\anaconda3\\lib\\site-packages\\sklearn\\linear_model\\_logistic.py:444: ConvergenceWarning: lbfgs failed to converge (status=1):\n",
      "STOP: TOTAL NO. of ITERATIONS REACHED LIMIT.\n",
      "\n",
      "Increase the number of iterations (max_iter) or scale the data as shown in:\n",
      "    https://scikit-learn.org/stable/modules/preprocessing.html\n",
      "Please also refer to the documentation for alternative solver options:\n",
      "    https://scikit-learn.org/stable/modules/linear_model.html#logistic-regression\n",
      "  n_iter_i = _check_optimize_result(\n"
     ]
    }
   ],
   "source": [
    "from sklearn.linear_model import LogisticRegression\n",
    "\n",
    "# преобразовываем тестовые данные\n",
    "X_test_selected = select.transform(X_test)\n",
    "lr = LogisticRegression(max_iter=1000);\n",
    "lr.fit(X_train, y_train)\n",
    "print(\"Правильность со всеми признаками: {:.3f}\".format(lr.score(X_test, y_test)))\n",
    "lr.fit(X_train_selected, y_train)\n",
    "print(\"Правильность только с отобранными признаками: {:.3f}\".format(\n",
    "lr.score(X_test_selected, y_test)))"
   ]
  },
  {
   "cell_type": "markdown",
   "id": "15e31911",
   "metadata": {},
   "source": [
    "Это был очень простой синтетический пример, результаты, \n",
    "получающиеся на реальных данных, как правило, получаются \n",
    "смешанными. Однако одномерный отбор признаков может быть очень \n",
    "полезен, если их количество является настолько большим, что \n",
    "невозможно построить модель, используя все эти характеристики, или \n",
    "же вы подозреваете, что многие характеристики совершенно \n",
    "неинформативны."
   ]
  },
  {
   "cell_type": "markdown",
   "id": "b7d0f75f",
   "metadata": {},
   "source": [
    "### Отбор признаков на основе модели"
   ]
  },
  {
   "cell_type": "markdown",
   "id": "ceac1ecb",
   "metadata": {},
   "source": [
    "Отбор признаков на основе модели использует модель машинного \n",
    "обучения с учителем, чтобы вычислить важность каждого признака, и \n",
    "оставляет только самые важные из них. **Модель машинного обучения с \n",
    "учителем, которая используется для отбора признаков, не должна\n",
    "использоваться для построения итоговой модели.**\n",
    "\n",
    "------------\n",
    "Модель, применяющаяся для отбора признаков, требует вычисления \n",
    "определенного показателя важности для всех признаков, с тем чтобы\n",
    "характеристики можно было ранжировать по этой метрике. В деревьях\n",
    "решений и моделях на основе дерева решений такой показатель\n",
    "реализован с помощью атрибута **feature_importances_**, в котором \n",
    "записывается важность каждого признака. У линейных моделей есть\n",
    "коэффициенты, абсолютные значения которых также можно\n",
    "использовать для оценки важности признаков. \n",
    "\n",
    "Как мы знаем, **линейные модели с L1 регуляризацией** позволяют вычислить разреженные \n",
    "решения, которые используют лишь небольшое подмножество \n",
    "признаков. Поэтому процедуру L1 регуляризации можно рассматривать \n",
    "как один из способов отбора признаков, выполняемый самой моделью.\n",
    "Кроме того, эту процедуру можно использовать в качестве инструмента \n",
    "предварительной обработки, позволяющего отобрать признаки для \n",
    "другой модели. \n",
    "\n",
    "----------------\n",
    "*В отличие от одномерного отбора отбор на основе модели \n",
    "рассматривает все признаки сразу и поэтому может обнаружить\n",
    "взаимодействия (если модель способна выявить их).*\n",
    "\n",
    "Чтобы применить отбор на основе модели, мы должны воспользоваться модификатором **SelectFromModel**"
   ]
  },
  {
   "cell_type": "code",
   "execution_count": 6,
   "id": "3d80d549",
   "metadata": {},
   "outputs": [],
   "source": [
    "from sklearn.feature_selection import SelectFromModel"
   ]
  },
  {
   "cell_type": "code",
   "execution_count": 7,
   "id": "6238ded4",
   "metadata": {},
   "outputs": [],
   "source": [
    "from sklearn.ensemble import RandomForestClassifier\n",
    "\n",
    "random_forest = RandomForestClassifier(n_estimators=100, random_state=42)\n",
    "select = SelectFromModel(random_forest, threshold='median')"
   ]
  },
  {
   "cell_type": "markdown",
   "id": "eef42618",
   "metadata": {},
   "source": [
    "Класс SelectFromModel отбирает все признаки, у которых показатель \n",
    "важности (заданный моделью машинного обучения с учителем) \n",
    "превышает установленное пороговое значение. Чтобы вычислить\n",
    "результат, сопоставимый с тем, который мы получили при\n",
    "однофакторном отборе признаков, мы использовали в качестве \n",
    "порогового значения медиану, поэтому будет отобрана половина \n",
    "признаков."
   ]
  },
  {
   "cell_type": "code",
   "execution_count": null,
   "id": "d4c58796",
   "metadata": {},
   "outputs": [],
   "source": [
    "select.fit(X_train, y_train) # обучение\n",
    "\n",
    "X_train_selected = select.transform(X_train) # отбор \n",
    "\n",
    "print(\"форма обуч набора X: {}\".format(X_train.shape))\n",
    "print(\"форма обуч набора X c l1: {}\".format(X_train_selected.shape))"
   ]
  },
  {
   "cell_type": "code",
   "execution_count": null,
   "id": "6ee67d29",
   "metadata": {},
   "outputs": [],
   "source": [
    "mask = select.get_support()\n",
    "# визуализируем булевы значения -- черный – True, белый – False\n",
    "plt.matshow(mask.reshape(1, -1), cmap='gray_r')\n",
    "plt.xlabel(\"Индекс примера\")"
   ]
  },
  {
   "cell_type": "code",
   "execution_count": null,
   "id": "c4e1095a",
   "metadata": {},
   "outputs": [],
   "source": [
    "X_test_l1 = select.transform(X_test)\n",
    "score = LogisticRegression().fit(X_train_selected, y_train).score(X_test_l1, y_test)\n",
    "print(\"Правильность на тестовом наборе: {:.3f}\".format(score))"
   ]
  },
  {
   "cell_type": "markdown",
   "id": "aae9abdf",
   "metadata": {},
   "source": [
    "*Использовав более оптимальный отбор признаков, мы смогли \n",
    "немного улучшить прогноз*"
   ]
  },
  {
   "cell_type": "markdown",
   "id": "e575498d",
   "metadata": {},
   "source": [
    "### Итеративный отбор признаков"
   ]
  },
  {
   "cell_type": "markdown",
   "id": "a3c4a503",
   "metadata": {},
   "source": [
    "В одномерном отборе признаков мы не использовали модель, а в отборе \n",
    "признаков на основе модели мы построили одну модель, чтобы выбрать\n",
    "характеристики. В итеративном отборе признаков строится \n",
    "последовательность моделей с различным количеством признаков. \n",
    "Существует два основных метода.\n",
    "\n",
    "- Первый метод начинается шага, когда \n",
    "в модель включена лишь одна константа (входных признаков нет) и\n",
    "затем добавляет признак за признаком до тех пор, пока не будет \n",
    "достигнут критерий остановки. \n",
    "\n",
    "\n",
    "- Второй метод начинается с шага, когда \n",
    "все признаки включены в модель, и затем начинает удалять признак за \n",
    "признаком, пока не будет достигнут критерий остановки. \n",
    "\n",
    "*Поскольку строится последовательность модели, эти методы с вычислительной \n",
    "точки зрения являются гораздо более затратными в отличие от ранее \n",
    "обсуждавшихся методов*. "
   ]
  },
  {
   "cell_type": "markdown",
   "id": "d68b6b60",
   "metadata": {},
   "source": [
    "Одним из таких методов является **метод \n",
    "рекурсивного исключения признаков**(recursive feature elimination, **RFE**), \n",
    "который начинается с включения всех признаков, строит модель и \n",
    "исключает наименее важный признак с точки зрения модели. Затем \n",
    "строится новая модель с использованием всех признаков, кроме \n",
    "исключенного, и так далее, пока не останется лишь заранее определенное \n",
    "количество признаков. Чтобы все получилось, модели, используемой для \n",
    "отбора признаков, необходима определенная метрика, измеряющая\n",
    "важность признаков, как было в случае с модельным отбором."
   ]
  },
  {
   "cell_type": "code",
   "execution_count": null,
   "id": "c3e8e6d8",
   "metadata": {},
   "outputs": [],
   "source": [
    "from sklearn.feature_selection import RFE"
   ]
  },
  {
   "cell_type": "code",
   "execution_count": null,
   "id": "5fc3380a",
   "metadata": {},
   "outputs": [],
   "source": [
    "random_forest = RandomForestClassifier(n_estimators=100, random_state=42)\n",
    "select = RFE(random_forest, n_features_to_select=40)\n",
    "\n",
    "select.fit(X_train, y_train)\n",
    "\n",
    "# визуализируем отобранные признаки:\n",
    "mask = select.get_support()\n",
    "plt.matshow(mask.reshape(1, -1), cmap='gray_r')\n",
    "plt.xlabel(\"Индекс примера\")"
   ]
  },
  {
   "cell_type": "markdown",
   "id": "f0d085e3",
   "metadata": {},
   "source": [
    "*Отбор признаков стал лучше по сравнению с одномерным отбором и \n",
    "отбором на основе модели, однако одного признака по-прежнему не \n",
    "хватает. Кроме того, выполнение этого программного кода занимает \n",
    "значительно больше времени в отличие от модельного отбора, поскольку \n",
    "модель случайного леса обучается 40 раз, по одной итерации для каждого \n",
    "отбрасываемого признака.*"
   ]
  },
  {
   "cell_type": "code",
   "execution_count": null,
   "id": "49dbc3c5",
   "metadata": {},
   "outputs": [],
   "source": [
    "X_train_rfe= select.transform(X_train)\n",
    "X_test_rfe= select.transform(X_test)\n",
    "score = LogisticRegression().fit(X_train_rfe, y_train).score(X_test_rfe, y_test)\n",
    "print(\"Правильность на тестовом наборе: {:.3f}\".format(score))"
   ]
  },
  {
   "cell_type": "markdown",
   "id": "8df8d3e7",
   "metadata": {},
   "source": [
    "## Вместо вывода"
   ]
  },
  {
   "cell_type": "markdown",
   "id": "e0d55ec5",
   "metadata": {},
   "source": [
    "Если у вас нет уверенности в том, какие признаки использовать в \n",
    "качестве входных данных для вашего алгоритма машинного обучения, \n",
    "автоматический отбор признаков может быть весьма полезен. Кроме того, \n",
    "он отлично подходит для уменьшения количества необходимых \n",
    "признаков, например, чтобы увеличить скорость вычисления прогнозов \n",
    "или получить более интерпретируемые модели. В большинстве реальных \n",
    "примеров применение отбора признаков вряд ли обеспечит большой \n",
    "прирост производительности. Тем не менее, он по-прежнему является \n",
    "ценным инструментом в арсенале специалиста по анализу данных.\n"
   ]
  },
  {
   "cell_type": "code",
   "execution_count": null,
   "id": "01af0f45",
   "metadata": {},
   "outputs": [],
   "source": []
  }
 ],
 "metadata": {
  "kernelspec": {
   "display_name": "Python 3 (ipykernel)",
   "language": "python",
   "name": "python3"
  },
  "language_info": {
   "codemirror_mode": {
    "name": "ipython",
    "version": 3
   },
   "file_extension": ".py",
   "mimetype": "text/x-python",
   "name": "python",
   "nbconvert_exporter": "python",
   "pygments_lexer": "ipython3",
   "version": "3.9.18"
  }
 },
 "nbformat": 4,
 "nbformat_minor": 5
}
